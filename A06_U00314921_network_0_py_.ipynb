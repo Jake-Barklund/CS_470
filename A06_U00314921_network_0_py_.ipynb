{
  "cells": [
    {
      "cell_type": "code",
      "execution_count": 3,
      "metadata": {
        "id": "E3H9UIrW7cdo"
      },
      "outputs": [
        {
          "name": "stdout",
          "output_type": "stream",
          "text": [
            "Model: \"sequential_2\"\n",
            "_________________________________________________________________\n",
            "Layer (type)                 Output Shape              Param #   \n",
            "=================================================================\n",
            "conv2d_6 (Conv2D)            (None, 30, 30, 32)        896       \n",
            "_________________________________________________________________\n",
            "max_pooling2d_4 (MaxPooling2 (None, 15, 15, 32)        0         \n",
            "_________________________________________________________________\n",
            "conv2d_7 (Conv2D)            (None, 13, 13, 64)        18496     \n",
            "_________________________________________________________________\n",
            "max_pooling2d_5 (MaxPooling2 (None, 6, 6, 64)          0         \n",
            "_________________________________________________________________\n",
            "conv2d_8 (Conv2D)            (None, 4, 4, 64)          36928     \n",
            "_________________________________________________________________\n",
            "flatten_2 (Flatten)          (None, 1024)              0         \n",
            "_________________________________________________________________\n",
            "dense_4 (Dense)              (None, 64)                65600     \n",
            "_________________________________________________________________\n",
            "dense_5 (Dense)              (None, 10)                650       \n",
            "=================================================================\n",
            "Total params: 122,570\n",
            "Trainable params: 122,570\n",
            "Non-trainable params: 0\n",
            "_________________________________________________________________\n",
            "Epoch 1/15\n"
          ]
        },
        {
          "name": "stderr",
          "output_type": "stream",
          "text": [
            "C:\\Users\\jakeb\\anaconda3\\envs\\CV\\lib\\site-packages\\tensorflow\\python\\keras\\backend.py:4929: UserWarning: \"`sparse_categorical_crossentropy` received `from_logits=True`, but the `output` argument was produced by a sigmoid or softmax activation and thus does not represent logits. Was this intended?\"\n",
            "  warnings.warn(\n"
          ]
        },
        {
          "name": "stdout",
          "output_type": "stream",
          "text": [
            "1563/1563 [==============================] - 12s 7ms/step - loss: 1.4822 - accuracy: 0.4617 - val_loss: 1.2688 - val_accuracy: 0.5502\n",
            "Epoch 2/15\n",
            "1563/1563 [==============================] - 11s 7ms/step - loss: 1.1243 - accuracy: 0.6022 - val_loss: 1.0284 - val_accuracy: 0.6424\n",
            "Epoch 3/15\n",
            "1563/1563 [==============================] - 11s 7ms/step - loss: 0.9887 - accuracy: 0.6506 - val_loss: 0.9738 - val_accuracy: 0.6571\n",
            "Epoch 4/15\n",
            "1563/1563 [==============================] - 11s 7ms/step - loss: 0.8886 - accuracy: 0.6894 - val_loss: 0.9818 - val_accuracy: 0.6600\n",
            "Epoch 5/15\n",
            "1563/1563 [==============================] - 11s 7ms/step - loss: 0.8192 - accuracy: 0.7118 - val_loss: 1.0347 - val_accuracy: 0.6508\n",
            "Epoch 6/15\n",
            "1563/1563 [==============================] - 10s 7ms/step - loss: 0.7581 - accuracy: 0.7355 - val_loss: 0.8828 - val_accuracy: 0.6963\n",
            "Epoch 7/15\n",
            "1563/1563 [==============================] - 11s 7ms/step - loss: 0.7113 - accuracy: 0.7491 - val_loss: 0.9127 - val_accuracy: 0.6901\n",
            "Epoch 8/15\n",
            "1563/1563 [==============================] - 11s 7ms/step - loss: 0.6665 - accuracy: 0.7654 - val_loss: 0.8809 - val_accuracy: 0.7042\n",
            "Epoch 9/15\n",
            "1563/1563 [==============================] - 11s 7ms/step - loss: 0.6256 - accuracy: 0.7791 - val_loss: 0.8904 - val_accuracy: 0.7017\n",
            "Epoch 10/15\n",
            "1563/1563 [==============================] - 11s 7ms/step - loss: 0.5923 - accuracy: 0.7899 - val_loss: 0.8582 - val_accuracy: 0.7152\n",
            "Epoch 11/15\n",
            "1563/1563 [==============================] - 11s 7ms/step - loss: 0.5562 - accuracy: 0.8041 - val_loss: 0.8725 - val_accuracy: 0.7113\n",
            "Epoch 12/15\n",
            "1563/1563 [==============================] - 11s 7ms/step - loss: 0.5256 - accuracy: 0.8146 - val_loss: 0.9580 - val_accuracy: 0.6952\n",
            "Epoch 13/15\n",
            "1563/1563 [==============================] - 11s 7ms/step - loss: 0.4977 - accuracy: 0.8236 - val_loss: 0.9359 - val_accuracy: 0.7096\n",
            "Epoch 14/15\n",
            "1563/1563 [==============================] - 11s 7ms/step - loss: 0.4648 - accuracy: 0.8372 - val_loss: 0.9599 - val_accuracy: 0.7067\n",
            "Epoch 15/15\n",
            "1563/1563 [==============================] - 11s 7ms/step - loss: 0.4396 - accuracy: 0.8423 - val_loss: 0.9994 - val_accuracy: 0.7054\n"
          ]
        }
      ],
      "source": [
        "import tensorflow as tf\n",
        "\n",
        "from tensorflow.keras import datasets, layers, models\n",
        "\n",
        "(trainX, trainY), (testX, testY) = datasets.cifar10.load_data()\n",
        "\n",
        "trainX, testX = trainX/255.0, testX/255.0\n",
        "\n",
        "model = models.Sequential()\n",
        "model.add(layers.Conv2D(32, (3, 3), activation='relu', input_shape=(32, 32, 3)))\n",
        "model.add(layers.MaxPooling2D((2, 2)))\n",
        "model.add(layers.Conv2D(64, (3, 3), activation='relu'))\n",
        "model.add(layers.MaxPooling2D((2, 2)))\n",
        "model.add(layers.Conv2D(64, (3, 3), activation='relu'))\n",
        "\n",
        "model.add(layers.Flatten())\n",
        "model.add(layers.Dense(64, activation='relu'))\n",
        "model.add(layers.Dense(10, activation='softmax'))\n",
        "\n",
        "model.summary()\n",
        "\n",
        "model.compile(optimizer='adam', loss=tf.keras.losses.SparseCategoricalCrossentropy(from_logits=True), metrics=['accuracy'])\n",
        "\n",
        "history = model.fit(trainX, trainY, epochs=15, validation_data=(testX, testY))\n",
        "\n",
        "result = model.evaluate(testX)\n",
        "dict(zip(model.metrics_names, result))"
      ]
    }
  ],
  "metadata": {
    "accelerator": "GPU",
    "colab": {
      "collapsed_sections": [],
      "name": "A06_U00314921_network_0.py/.ipynb",
      "provenance": []
    },
    "kernelspec": {
      "display_name": "Python 3",
      "name": "python3"
    },
    "language_info": {
      "codemirror_mode": {
        "name": "ipython",
        "version": 3
      },
      "file_extension": ".py",
      "mimetype": "text/x-python",
      "name": "python",
      "nbconvert_exporter": "python",
      "pygments_lexer": "ipython3",
      "version": "3.9.6"
    }
  },
  "nbformat": 4,
  "nbformat_minor": 0
}
